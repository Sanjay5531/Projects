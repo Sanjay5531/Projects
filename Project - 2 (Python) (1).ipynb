{
 "cells": [
  {
   "cell_type": "markdown",
   "id": "10f09430",
   "metadata": {},
   "source": [
    "# Project - 2 \n",
    "\n",
    "# EDA on Vechicle Insurance Customer Data\n",
    "\n",
    "# Challenge by Sanjay"
   ]
  },
  {
   "cell_type": "code",
   "execution_count": 237,
   "id": "27b028f1",
   "metadata": {},
   "outputs": [],
   "source": [
    "#A company has customer data that contains 8 columns of customer details and another table having name customer_policy data\n",
    "#contains the policy details of the customer. \n",
    "\n",
    "#The company intends to offer some discount in premium for certain customers. To do that they ask their Data scientist team \n",
    "#to get some information. Hence, following tasks DS team decided to perform:\n",
    "\n",
    "# 1. Add the column names to both datasets:\n",
    "\n",
    "# i. Column Name for customer details table:\n",
    "\n",
    "          # customer_id, \n",
    "\n",
    "          # Gender,\n",
    "\n",
    "          # age, \n",
    "\n",
    "          # driving licence present,\n",
    "\n",
    "          # region code, \n",
    "\n",
    "          # previously insured, \n",
    "\n",
    "          # vehicle age \n",
    "\n",
    "          # and vehicle damage, in respective order. \n",
    "\n",
    "#ii. Column Name for customer_policy table:\n",
    "\n",
    "         #  customer_id, \n",
    "\n",
    "         #  annual premium (in Rs), \n",
    "\n",
    "         #  sales channel code, \n",
    "\n",
    "          # vintage and response. \n",
    "\n",
    "#2. Checking and Cleaning Data Quality:\n",
    "\n",
    "#i. Null values\n",
    "\n",
    "# Generate a summary of count of all the null values column wise\n",
    "# Drop Null values for customer_id because central tendencies for id’s is not feasible.\n",
    "# Replace all null values for numeric columns by mean. \n",
    "# Replace all null values for Categorical value by mode.\n",
    "\n",
    "# ii. Outliers\n",
    "\n",
    "# Generate a summary of count of all the outliers column wise\n",
    "# Replace all outlier values for numeric columns by mean.\n",
    "\n",
    "# (Hint1: for outlier treatment use IQR method as follows:\n",
    "\n",
    "# For example: for a column X calculate Q1 = 25th percentile and Q3 = 75th percentile then IQR = Q3 – Q1 ) then to check \n",
    "# outlier, anything lower than a Q1 – 1.5IQR or greater than Q3 + 1.5 IQR would be an outlier\n",
    "\n",
    "# Hint2: For getting percentile value, explore pd.describe() function)\n",
    "\n",
    "# iii. White spaces\n",
    "\n",
    "# Remove white spaces\n",
    "\n",
    "# iv. case correction(lower or upper, any one) \n",
    "\n",
    "# v. Convert nominal data (categorical) into dummies \n",
    "\n",
    "# for future modeling use if required\n",
    "# vi. Drop Duplicates (duplicated rows)\n",
    "\n",
    "# 3. Create a Master table for future use. Join the customer table and customer_policy table to get a master table \n",
    "# using customer_id in both tables.\n",
    "\n",
    "# (Hint: use pd.merge() function)\n",
    "\n",
    "# 4. Company needs some important information from the master table to make decisions for future growth.They needs following information:\n",
    "\n",
    "#  i. Gender wise average annual premium\n",
    "\n",
    "# ii. Age wise average annual premium\n",
    "\n",
    "# iii. Is your data balanced between the genders?\n",
    "\n",
    "         # (Hint: Data is balanced if number of counts in each group is approximately same)\n",
    "\n",
    "# iv. Vehicle age wise average annual premium.\n",
    "\n",
    "# 5. Is there any relation between Person Age and annual premium?\n",
    "\n",
    "# Hint: use correlation function (Correlation describes the relationship between two variables). \n",
    "\n",
    "# Correlation coefficient < -0.5           - Strong negative relationship\n",
    "\n",
    "# Correlation coefficient > 0.5            -  Strong positive relationship\n",
    "\n",
    "# 0.5 < Correlation coefficient < 0.5   - There is no relationship. \n",
    "\n",
    "# Click here for the files"
   ]
  },
  {
   "cell_type": "code",
   "execution_count": 238,
   "id": "1e4623ee",
   "metadata": {},
   "outputs": [],
   "source": [
    "import pandas as pd\n",
    "import numpy as np\n",
    "import matplotlib.pyplot as plt"
   ]
  },
  {
   "cell_type": "code",
   "execution_count": 239,
   "id": "1a304a9e",
   "metadata": {},
   "outputs": [],
   "source": [
    "df1 = pd.read_csv(r'C:\\Users\\P SANJAY\\Downloads\\Pandas1\\customer.csv')\n",
    "df2 = pd.read_csv(r'C:\\Users\\P SANJAY\\Downloads\\Pandas2\\customer1.csv')"
   ]
  },
  {
   "cell_type": "code",
   "execution_count": 240,
   "id": "f1e8bd19",
   "metadata": {},
   "outputs": [
    {
     "data": {
      "text/html": [
       "<div>\n",
       "<style scoped>\n",
       "    .dataframe tbody tr th:only-of-type {\n",
       "        vertical-align: middle;\n",
       "    }\n",
       "\n",
       "    .dataframe tbody tr th {\n",
       "        vertical-align: top;\n",
       "    }\n",
       "\n",
       "    .dataframe thead th {\n",
       "        text-align: right;\n",
       "    }\n",
       "</style>\n",
       "<table border=\"1\" class=\"dataframe\">\n",
       "  <thead>\n",
       "    <tr style=\"text-align: right;\">\n",
       "      <th></th>\n",
       "      <th>0</th>\n",
       "      <th>1</th>\n",
       "      <th>2</th>\n",
       "      <th>3</th>\n",
       "      <th>4</th>\n",
       "      <th>5</th>\n",
       "      <th>6</th>\n",
       "      <th>7</th>\n",
       "    </tr>\n",
       "  </thead>\n",
       "  <tbody>\n",
       "    <tr>\n",
       "      <th>0</th>\n",
       "      <td>1.0</td>\n",
       "      <td>Male</td>\n",
       "      <td>45.0</td>\n",
       "      <td>1.0</td>\n",
       "      <td>25.0</td>\n",
       "      <td>0.0</td>\n",
       "      <td>&gt; 2 Years</td>\n",
       "      <td>Yes</td>\n",
       "    </tr>\n",
       "    <tr>\n",
       "      <th>1</th>\n",
       "      <td>2.0</td>\n",
       "      <td>Male</td>\n",
       "      <td>60.0</td>\n",
       "      <td>1.0</td>\n",
       "      <td>30.0</td>\n",
       "      <td>1.0</td>\n",
       "      <td>1-2 Years</td>\n",
       "      <td>No</td>\n",
       "    </tr>\n",
       "    <tr>\n",
       "      <th>2</th>\n",
       "      <td>3.0</td>\n",
       "      <td>Male</td>\n",
       "      <td>55.0</td>\n",
       "      <td>1.0</td>\n",
       "      <td>20.0</td>\n",
       "      <td>1.0</td>\n",
       "      <td>&gt; 2 Years</td>\n",
       "      <td>No</td>\n",
       "    </tr>\n",
       "    <tr>\n",
       "      <th>3</th>\n",
       "      <td>4.0</td>\n",
       "      <td>Female</td>\n",
       "      <td>25.0</td>\n",
       "      <td>1.0</td>\n",
       "      <td>15.0</td>\n",
       "      <td>0.0</td>\n",
       "      <td>&lt; 1 Year</td>\n",
       "      <td>No</td>\n",
       "    </tr>\n",
       "    <tr>\n",
       "      <th>4</th>\n",
       "      <td>5.0</td>\n",
       "      <td>Male</td>\n",
       "      <td>4.0</td>\n",
       "      <td>1.0</td>\n",
       "      <td>7.0</td>\n",
       "      <td>0.0</td>\n",
       "      <td>&lt; 1 Year</td>\n",
       "      <td>Yes</td>\n",
       "    </tr>\n",
       "  </tbody>\n",
       "</table>\n",
       "</div>"
      ],
      "text/plain": [
       "     0       1     2    3     4    5          6    7\n",
       "0  1.0    Male  45.0  1.0  25.0  0.0  > 2 Years  Yes\n",
       "1  2.0    Male  60.0  1.0  30.0  1.0  1-2 Years   No\n",
       "2  3.0    Male  55.0  1.0  20.0  1.0  > 2 Years   No\n",
       "3  4.0  Female  25.0  1.0  15.0  0.0   < 1 Year   No\n",
       "4  5.0    Male   4.0  1.0   7.0  0.0   < 1 Year  Yes"
      ]
     },
     "execution_count": 240,
     "metadata": {},
     "output_type": "execute_result"
    }
   ],
   "source": [
    "df1"
   ]
  },
  {
   "cell_type": "code",
   "execution_count": 241,
   "id": "2a5cfd14",
   "metadata": {},
   "outputs": [
    {
     "data": {
      "text/html": [
       "<div>\n",
       "<style scoped>\n",
       "    .dataframe tbody tr th:only-of-type {\n",
       "        vertical-align: middle;\n",
       "    }\n",
       "\n",
       "    .dataframe tbody tr th {\n",
       "        vertical-align: top;\n",
       "    }\n",
       "\n",
       "    .dataframe thead th {\n",
       "        text-align: right;\n",
       "    }\n",
       "</style>\n",
       "<table border=\"1\" class=\"dataframe\">\n",
       "  <thead>\n",
       "    <tr style=\"text-align: right;\">\n",
       "      <th></th>\n",
       "      <th>0</th>\n",
       "      <th>1</th>\n",
       "      <th>2</th>\n",
       "      <th>3</th>\n",
       "      <th>4</th>\n",
       "    </tr>\n",
       "  </thead>\n",
       "  <tbody>\n",
       "    <tr>\n",
       "      <th>0</th>\n",
       "      <td>1.0</td>\n",
       "      <td>45564.0</td>\n",
       "      <td>65.0</td>\n",
       "      <td>350.0</td>\n",
       "      <td>1.0</td>\n",
       "    </tr>\n",
       "    <tr>\n",
       "      <th>1</th>\n",
       "      <td>2.0</td>\n",
       "      <td>40556.0</td>\n",
       "      <td>55.0</td>\n",
       "      <td>155.0</td>\n",
       "      <td>0.0</td>\n",
       "    </tr>\n",
       "    <tr>\n",
       "      <th>2</th>\n",
       "      <td>3.0</td>\n",
       "      <td>35679.0</td>\n",
       "      <td>25.0</td>\n",
       "      <td>249.0</td>\n",
       "      <td>1.0</td>\n",
       "    </tr>\n",
       "    <tr>\n",
       "      <th>3</th>\n",
       "      <td>4.0</td>\n",
       "      <td>25619.0</td>\n",
       "      <td>125.0</td>\n",
       "      <td>35.0</td>\n",
       "      <td>0.0</td>\n",
       "    </tr>\n",
       "    <tr>\n",
       "      <th>4</th>\n",
       "      <td>5.0</td>\n",
       "      <td>21597.0</td>\n",
       "      <td>126.0</td>\n",
       "      <td>69.0</td>\n",
       "      <td>0.0</td>\n",
       "    </tr>\n",
       "  </tbody>\n",
       "</table>\n",
       "</div>"
      ],
      "text/plain": [
       "     0        1      2      3    4\n",
       "0  1.0  45564.0   65.0  350.0  1.0\n",
       "1  2.0  40556.0   55.0  155.0  0.0\n",
       "2  3.0  35679.0   25.0  249.0  1.0\n",
       "3  4.0  25619.0  125.0   35.0  0.0\n",
       "4  5.0  21597.0  126.0   69.0  0.0"
      ]
     },
     "execution_count": 241,
     "metadata": {},
     "output_type": "execute_result"
    }
   ],
   "source": [
    "df2"
   ]
  },
  {
   "cell_type": "code",
   "execution_count": 242,
   "id": "a350a127",
   "metadata": {},
   "outputs": [
    {
     "data": {
      "text/html": [
       "<div>\n",
       "<style scoped>\n",
       "    .dataframe tbody tr th:only-of-type {\n",
       "        vertical-align: middle;\n",
       "    }\n",
       "\n",
       "    .dataframe tbody tr th {\n",
       "        vertical-align: top;\n",
       "    }\n",
       "\n",
       "    .dataframe thead th {\n",
       "        text-align: right;\n",
       "    }\n",
       "</style>\n",
       "<table border=\"1\" class=\"dataframe\">\n",
       "  <thead>\n",
       "    <tr style=\"text-align: right;\">\n",
       "      <th></th>\n",
       "      <th>Customer_id</th>\n",
       "      <th>Gender</th>\n",
       "      <th>age</th>\n",
       "      <th>driving licence present</th>\n",
       "      <th>region code</th>\n",
       "      <th>previously insured</th>\n",
       "      <th>vechicle age</th>\n",
       "      <th>vechicle damage</th>\n",
       "    </tr>\n",
       "  </thead>\n",
       "  <tbody>\n",
       "    <tr>\n",
       "      <th>0</th>\n",
       "      <td>1.0</td>\n",
       "      <td>Male</td>\n",
       "      <td>45.0</td>\n",
       "      <td>1.0</td>\n",
       "      <td>25.0</td>\n",
       "      <td>0.0</td>\n",
       "      <td>&gt; 2 Years</td>\n",
       "      <td>Yes</td>\n",
       "    </tr>\n",
       "    <tr>\n",
       "      <th>1</th>\n",
       "      <td>2.0</td>\n",
       "      <td>Male</td>\n",
       "      <td>60.0</td>\n",
       "      <td>1.0</td>\n",
       "      <td>30.0</td>\n",
       "      <td>1.0</td>\n",
       "      <td>1-2 Years</td>\n",
       "      <td>No</td>\n",
       "    </tr>\n",
       "    <tr>\n",
       "      <th>2</th>\n",
       "      <td>3.0</td>\n",
       "      <td>Male</td>\n",
       "      <td>55.0</td>\n",
       "      <td>1.0</td>\n",
       "      <td>20.0</td>\n",
       "      <td>1.0</td>\n",
       "      <td>&gt; 2 Years</td>\n",
       "      <td>No</td>\n",
       "    </tr>\n",
       "    <tr>\n",
       "      <th>3</th>\n",
       "      <td>4.0</td>\n",
       "      <td>Female</td>\n",
       "      <td>25.0</td>\n",
       "      <td>1.0</td>\n",
       "      <td>15.0</td>\n",
       "      <td>0.0</td>\n",
       "      <td>&lt; 1 Year</td>\n",
       "      <td>No</td>\n",
       "    </tr>\n",
       "    <tr>\n",
       "      <th>4</th>\n",
       "      <td>5.0</td>\n",
       "      <td>Male</td>\n",
       "      <td>4.0</td>\n",
       "      <td>1.0</td>\n",
       "      <td>7.0</td>\n",
       "      <td>0.0</td>\n",
       "      <td>&lt; 1 Year</td>\n",
       "      <td>Yes</td>\n",
       "    </tr>\n",
       "  </tbody>\n",
       "</table>\n",
       "</div>"
      ],
      "text/plain": [
       "   Customer_id  Gender   age  driving licence present  region code  \\\n",
       "0          1.0    Male  45.0                      1.0         25.0   \n",
       "1          2.0    Male  60.0                      1.0         30.0   \n",
       "2          3.0    Male  55.0                      1.0         20.0   \n",
       "3          4.0  Female  25.0                      1.0         15.0   \n",
       "4          5.0    Male   4.0                      1.0          7.0   \n",
       "\n",
       "   previously insured vechicle age vechicle damage  \n",
       "0                 0.0    > 2 Years             Yes  \n",
       "1                 1.0    1-2 Years              No  \n",
       "2                 1.0    > 2 Years              No  \n",
       "3                 0.0     < 1 Year              No  \n",
       "4                 0.0     < 1 Year             Yes  "
      ]
     },
     "execution_count": 242,
     "metadata": {},
     "output_type": "execute_result"
    }
   ],
   "source": [
    "# 1.(i).\n",
    "# Adding column names for customer_details\n",
    "\n",
    "headers =['Customer_id','Gender','age','driving licence present','region code','previously insured','vechicle age','vechicle damage']\n",
    "df1.columns = headers\n",
    "df1.head()"
   ]
  },
  {
   "cell_type": "code",
   "execution_count": 243,
   "id": "a631464a",
   "metadata": {},
   "outputs": [
    {
     "data": {
      "text/html": [
       "<div>\n",
       "<style scoped>\n",
       "    .dataframe tbody tr th:only-of-type {\n",
       "        vertical-align: middle;\n",
       "    }\n",
       "\n",
       "    .dataframe tbody tr th {\n",
       "        vertical-align: top;\n",
       "    }\n",
       "\n",
       "    .dataframe thead th {\n",
       "        text-align: right;\n",
       "    }\n",
       "</style>\n",
       "<table border=\"1\" class=\"dataframe\">\n",
       "  <thead>\n",
       "    <tr style=\"text-align: right;\">\n",
       "      <th></th>\n",
       "      <th>Customer_id</th>\n",
       "      <th>annual premium(in Rs)</th>\n",
       "      <th>sales channel code</th>\n",
       "      <th>vintage</th>\n",
       "      <th>response</th>\n",
       "    </tr>\n",
       "  </thead>\n",
       "  <tbody>\n",
       "    <tr>\n",
       "      <th>0</th>\n",
       "      <td>1.0</td>\n",
       "      <td>45564.0</td>\n",
       "      <td>65.0</td>\n",
       "      <td>350.0</td>\n",
       "      <td>1.0</td>\n",
       "    </tr>\n",
       "    <tr>\n",
       "      <th>1</th>\n",
       "      <td>2.0</td>\n",
       "      <td>40556.0</td>\n",
       "      <td>55.0</td>\n",
       "      <td>155.0</td>\n",
       "      <td>0.0</td>\n",
       "    </tr>\n",
       "    <tr>\n",
       "      <th>2</th>\n",
       "      <td>3.0</td>\n",
       "      <td>35679.0</td>\n",
       "      <td>25.0</td>\n",
       "      <td>249.0</td>\n",
       "      <td>1.0</td>\n",
       "    </tr>\n",
       "    <tr>\n",
       "      <th>3</th>\n",
       "      <td>4.0</td>\n",
       "      <td>25619.0</td>\n",
       "      <td>125.0</td>\n",
       "      <td>35.0</td>\n",
       "      <td>0.0</td>\n",
       "    </tr>\n",
       "    <tr>\n",
       "      <th>4</th>\n",
       "      <td>5.0</td>\n",
       "      <td>21597.0</td>\n",
       "      <td>126.0</td>\n",
       "      <td>69.0</td>\n",
       "      <td>0.0</td>\n",
       "    </tr>\n",
       "  </tbody>\n",
       "</table>\n",
       "</div>"
      ],
      "text/plain": [
       "   Customer_id  annual premium(in Rs)  sales channel code  vintage  response\n",
       "0          1.0                45564.0                65.0    350.0       1.0\n",
       "1          2.0                40556.0                55.0    155.0       0.0\n",
       "2          3.0                35679.0                25.0    249.0       1.0\n",
       "3          4.0                25619.0               125.0     35.0       0.0\n",
       "4          5.0                21597.0               126.0     69.0       0.0"
      ]
     },
     "execution_count": 243,
     "metadata": {},
     "output_type": "execute_result"
    }
   ],
   "source": [
    "# 1.(ii).\n",
    "# Adding Column names for customer_policy details\n",
    "\n",
    "headers = ['Customer_id','annual premium(in Rs)','sales channel code','vintage','response']\n",
    "df2.columns = headers\n",
    "df2.head()"
   ]
  },
  {
   "cell_type": "code",
   "execution_count": 250,
   "id": "814b4539",
   "metadata": {},
   "outputs": [
    {
     "name": "stdout",
     "output_type": "stream",
     "text": [
      "Customer_id\n",
      "False    5\n",
      "Name: Customer_id, dtype: int64\n",
      "\n",
      "Gender\n",
      "False    5\n",
      "Name: Gender, dtype: int64\n",
      "\n",
      "age\n",
      "False    5\n",
      "Name: age, dtype: int64\n",
      "\n",
      "driving licence present\n",
      "False    5\n",
      "Name: driving licence present, dtype: int64\n",
      "\n",
      "region code\n",
      "False    5\n",
      "Name: region code, dtype: int64\n",
      "\n",
      "previously insured\n",
      "False    5\n",
      "Name: previously insured, dtype: int64\n",
      "\n",
      "vechicle age\n",
      "False    5\n",
      "Name: vechicle age, dtype: int64\n",
      "\n",
      "vechicle damage\n",
      "False    5\n",
      "Name: vechicle damage, dtype: int64\n",
      "\n"
     ]
    }
   ],
   "source": [
    "# 2. Checking and cleaning Data Quality\n",
    "# 2(i).NULL Values\n",
    "# 2.i.(a).Generate a summary of count of all null values column wise\n",
    "# Column wise count of all null valuues on customer details table\n",
    "\n",
    "df1_null = df1.isnull()\n",
    "for i in df1_null.columns.values.tolist():\n",
    "    print(i)\n",
    "    print(df1_null[i].value_counts())\n",
    "    print(\"\")\n",
    "    "
   ]
  },
  {
   "cell_type": "code",
   "execution_count": 251,
   "id": "1f8876b3",
   "metadata": {},
   "outputs": [
    {
     "name": "stdout",
     "output_type": "stream",
     "text": [
      "Customer_id\n",
      "False    5\n",
      "Name: Customer_id, dtype: int64\n",
      "\n",
      "Gender\n",
      "False    5\n",
      "Name: Gender, dtype: int64\n",
      "\n",
      "age\n",
      "False    5\n",
      "Name: age, dtype: int64\n",
      "\n",
      "driving licence present\n",
      "False    5\n",
      "Name: driving licence present, dtype: int64\n",
      "\n",
      "region code\n",
      "False    5\n",
      "Name: region code, dtype: int64\n",
      "\n",
      "previously insured\n",
      "False    5\n",
      "Name: previously insured, dtype: int64\n",
      "\n",
      "vechicle age\n",
      "False    5\n",
      "Name: vechicle age, dtype: int64\n",
      "\n",
      "vechicle damage\n",
      "False    5\n",
      "Name: vechicle damage, dtype: int64\n",
      "\n"
     ]
    }
   ],
   "source": [
    "# Column wise count of all null valuues on customer policy details  table\n",
    "\n",
    "df1_null = df1.isnull()\n",
    "for i in df1_null.columns.values.tolist():\n",
    "    print(i)\n",
    "    print(df1_null[i].value_counts())\n",
    "    print(\"\")"
   ]
  },
  {
   "cell_type": "code",
   "execution_count": 252,
   "id": "147e906f",
   "metadata": {},
   "outputs": [],
   "source": [
    "# 2.i.(b).Drop NULL values for customer_id \n",
    "\n",
    "# Here dropping the rows that contains null values of customer_id of customer details table\n",
    "\n",
    "df1.dropna(subset=['Customer_id'],axis = 0,inplace = True)\n",
    "df1.reset_index(drop  = True,inplace = True)"
   ]
  },
  {
   "cell_type": "code",
   "execution_count": 253,
   "id": "0a9cbc2d",
   "metadata": {},
   "outputs": [],
   "source": [
    "# Here dropping the rows that contains null values of customer_id of customer policy details table\n",
    "\n",
    "df2.dropna(subset=['Customer_id'],axis = 0,inplace = True)\n",
    "df2.reset_index(drop  = True,inplace = True)"
   ]
  },
  {
   "cell_type": "code",
   "execution_count": 254,
   "id": "c1091de1",
   "metadata": {},
   "outputs": [
    {
     "data": {
      "text/html": [
       "<div>\n",
       "<style scoped>\n",
       "    .dataframe tbody tr th:only-of-type {\n",
       "        vertical-align: middle;\n",
       "    }\n",
       "\n",
       "    .dataframe tbody tr th {\n",
       "        vertical-align: top;\n",
       "    }\n",
       "\n",
       "    .dataframe thead th {\n",
       "        text-align: right;\n",
       "    }\n",
       "</style>\n",
       "<table border=\"1\" class=\"dataframe\">\n",
       "  <thead>\n",
       "    <tr style=\"text-align: right;\">\n",
       "      <th></th>\n",
       "      <th>Customer_id</th>\n",
       "      <th>Gender</th>\n",
       "      <th>age</th>\n",
       "      <th>driving licence present</th>\n",
       "      <th>region code</th>\n",
       "      <th>previously insured</th>\n",
       "      <th>vechicle age</th>\n",
       "      <th>vechicle damage</th>\n",
       "    </tr>\n",
       "  </thead>\n",
       "  <tbody>\n",
       "    <tr>\n",
       "      <th>0</th>\n",
       "      <td>1.0</td>\n",
       "      <td>Male</td>\n",
       "      <td>45.0</td>\n",
       "      <td>1.0</td>\n",
       "      <td>25.0</td>\n",
       "      <td>0.0</td>\n",
       "      <td>&gt; 2 Years</td>\n",
       "      <td>Yes</td>\n",
       "    </tr>\n",
       "    <tr>\n",
       "      <th>1</th>\n",
       "      <td>2.0</td>\n",
       "      <td>Male</td>\n",
       "      <td>60.0</td>\n",
       "      <td>1.0</td>\n",
       "      <td>30.0</td>\n",
       "      <td>1.0</td>\n",
       "      <td>1-2 Years</td>\n",
       "      <td>No</td>\n",
       "    </tr>\n",
       "    <tr>\n",
       "      <th>2</th>\n",
       "      <td>3.0</td>\n",
       "      <td>Male</td>\n",
       "      <td>55.0</td>\n",
       "      <td>1.0</td>\n",
       "      <td>20.0</td>\n",
       "      <td>1.0</td>\n",
       "      <td>&gt; 2 Years</td>\n",
       "      <td>No</td>\n",
       "    </tr>\n",
       "    <tr>\n",
       "      <th>3</th>\n",
       "      <td>4.0</td>\n",
       "      <td>Female</td>\n",
       "      <td>25.0</td>\n",
       "      <td>1.0</td>\n",
       "      <td>15.0</td>\n",
       "      <td>0.0</td>\n",
       "      <td>&lt; 1 Year</td>\n",
       "      <td>No</td>\n",
       "    </tr>\n",
       "    <tr>\n",
       "      <th>4</th>\n",
       "      <td>5.0</td>\n",
       "      <td>Male</td>\n",
       "      <td>4.0</td>\n",
       "      <td>1.0</td>\n",
       "      <td>7.0</td>\n",
       "      <td>0.0</td>\n",
       "      <td>&lt; 1 Year</td>\n",
       "      <td>Yes</td>\n",
       "    </tr>\n",
       "  </tbody>\n",
       "</table>\n",
       "</div>"
      ],
      "text/plain": [
       "   Customer_id  Gender   age  driving licence present  region code  \\\n",
       "0          1.0    Male  45.0                      1.0         25.0   \n",
       "1          2.0    Male  60.0                      1.0         30.0   \n",
       "2          3.0    Male  55.0                      1.0         20.0   \n",
       "3          4.0  Female  25.0                      1.0         15.0   \n",
       "4          5.0    Male   4.0                      1.0          7.0   \n",
       "\n",
       "   previously insured vechicle age vechicle damage  \n",
       "0                 0.0    > 2 Years             Yes  \n",
       "1                 1.0    1-2 Years              No  \n",
       "2                 1.0    > 2 Years              No  \n",
       "3                 0.0     < 1 Year              No  \n",
       "4                 0.0     < 1 Year             Yes  "
      ]
     },
     "execution_count": 254,
     "metadata": {},
     "output_type": "execute_result"
    }
   ],
   "source": [
    "# 2.i.(c).Replacing all null values for numeric columns by mean\n",
    "\n",
    "df1.head()"
   ]
  },
  {
   "cell_type": "code",
   "execution_count": 256,
   "id": "7b09bebb",
   "metadata": {},
   "outputs": [],
   "source": [
    "# Replacing the NaN values of age by its mean value\n",
    "\n",
    "df1['age'].fillna(df1['age'].mean(),inplace = True)\n",
    "\n",
    "# Replacing the NaN values of region code by its mean value\n",
    "\n",
    "df1['region code'].fillna(df1['region code'].mean(),inplace = True)\n"
   ]
  },
  {
   "cell_type": "code",
   "execution_count": 257,
   "id": "e881d58d",
   "metadata": {},
   "outputs": [
    {
     "data": {
      "text/html": [
       "<div>\n",
       "<style scoped>\n",
       "    .dataframe tbody tr th:only-of-type {\n",
       "        vertical-align: middle;\n",
       "    }\n",
       "\n",
       "    .dataframe tbody tr th {\n",
       "        vertical-align: top;\n",
       "    }\n",
       "\n",
       "    .dataframe thead th {\n",
       "        text-align: right;\n",
       "    }\n",
       "</style>\n",
       "<table border=\"1\" class=\"dataframe\">\n",
       "  <thead>\n",
       "    <tr style=\"text-align: right;\">\n",
       "      <th></th>\n",
       "      <th>Customer_id</th>\n",
       "      <th>annual premium(in Rs)</th>\n",
       "      <th>sales channel code</th>\n",
       "      <th>vintage</th>\n",
       "      <th>response</th>\n",
       "    </tr>\n",
       "  </thead>\n",
       "  <tbody>\n",
       "    <tr>\n",
       "      <th>0</th>\n",
       "      <td>1.0</td>\n",
       "      <td>45564.0</td>\n",
       "      <td>65.0</td>\n",
       "      <td>350.0</td>\n",
       "      <td>1.0</td>\n",
       "    </tr>\n",
       "    <tr>\n",
       "      <th>1</th>\n",
       "      <td>2.0</td>\n",
       "      <td>40556.0</td>\n",
       "      <td>55.0</td>\n",
       "      <td>155.0</td>\n",
       "      <td>0.0</td>\n",
       "    </tr>\n",
       "    <tr>\n",
       "      <th>2</th>\n",
       "      <td>3.0</td>\n",
       "      <td>35679.0</td>\n",
       "      <td>25.0</td>\n",
       "      <td>249.0</td>\n",
       "      <td>1.0</td>\n",
       "    </tr>\n",
       "    <tr>\n",
       "      <th>3</th>\n",
       "      <td>4.0</td>\n",
       "      <td>25619.0</td>\n",
       "      <td>125.0</td>\n",
       "      <td>35.0</td>\n",
       "      <td>0.0</td>\n",
       "    </tr>\n",
       "    <tr>\n",
       "      <th>4</th>\n",
       "      <td>5.0</td>\n",
       "      <td>21597.0</td>\n",
       "      <td>126.0</td>\n",
       "      <td>69.0</td>\n",
       "      <td>0.0</td>\n",
       "    </tr>\n",
       "  </tbody>\n",
       "</table>\n",
       "</div>"
      ],
      "text/plain": [
       "   Customer_id  annual premium(in Rs)  sales channel code  vintage  response\n",
       "0          1.0                45564.0                65.0    350.0       1.0\n",
       "1          2.0                40556.0                55.0    155.0       0.0\n",
       "2          3.0                35679.0                25.0    249.0       1.0\n",
       "3          4.0                25619.0               125.0     35.0       0.0\n",
       "4          5.0                21597.0               126.0     69.0       0.0"
      ]
     },
     "execution_count": 257,
     "metadata": {},
     "output_type": "execute_result"
    }
   ],
   "source": [
    "df2.head()"
   ]
  },
  {
   "cell_type": "code",
   "execution_count": 258,
   "id": "d6fdaeee",
   "metadata": {},
   "outputs": [],
   "source": [
    "# Replacing the NaN values of annual premium by its mean value\n",
    "\n",
    "df2['annual premium(in Rs)'].fillna(df2['annual premium(in Rs)'].mean(),inplace = True)\n",
    "\n",
    "# Replacing the NaN values of sales channel code by its mean value\n",
    "\n",
    "df2['sales channel code'].fillna(df2['sales channel code'].mean(),inplace = True)\n",
    "\n",
    "# Replacing the NaN values of vintage by its mean value\n",
    "\n",
    "df2['vintage'].fillna(df2['vintage'].mean(),inplace = True)"
   ]
  },
  {
   "cell_type": "code",
   "execution_count": 259,
   "id": "dd4efaad",
   "metadata": {},
   "outputs": [],
   "source": [
    "# 2.i.(d)Replacing categorical null values by its mode.\n",
    "\n",
    "# It replaces the null values with the value which exist maximum number of times i.e mode\n",
    "\n",
    "df1['driving licence present'].fillna(df1['driving licence present'].mode()[0],inplace = True)\n",
    "\n",
    "df1['previously insured'].fillna(df1['previously insured'].mode()[0],inplace = True)\n",
    "\n",
    "df2['response'].fillna(df2['response'].mode()[0],inplace = True)\n"
   ]
  },
  {
   "cell_type": "code",
   "execution_count": 260,
   "id": "e0480e91",
   "metadata": {},
   "outputs": [],
   "source": [
    "# 2(ii) OUTLIERS\n",
    "# 2.II.(a).Generate a summary of count of all the outliers coulumn wise\n",
    "\n",
    "# In customer details table we need to calcualte outliers for columns age and regional code.others are non-numerical columns\n",
    "# so in that case we can ignore it\n",
    "\n",
    "def plot_boxplot(df,ft):\n",
    "    df.boxplot(column=[ft])\n",
    "    plt.grid(False)\n",
    "    plt.show()"
   ]
  },
  {
   "cell_type": "code",
   "execution_count": 261,
   "id": "9ff15383",
   "metadata": {},
   "outputs": [
    {
     "data": {
      "image/png": "[encoded data removed]",
      "text/plain": [
       "<Figure size 432x288 with 1 Axes>"
      ]
     },
     "metadata": {
      "needs_background": "light"
     },
     "output_type": "display_data"
    }
   ],
   "source": [
    "plot_boxplot(df1,'age')"
   ]
  },
  {
   "cell_type": "code",
   "execution_count": 262,
   "id": "80a9c56e",
   "metadata": {},
   "outputs": [
    {
     "data": {
      "image/png": "[encoded data removed]",
      "text/plain": [
       "<Figure size 432x288 with 1 Axes>"
      ]
     },
     "metadata": {
      "needs_background": "light"
     },
     "output_type": "display_data"
    }
   ],
   "source": [
    "plot_boxplot(df1,'region code')"
   ]
  },
  {
   "cell_type": "code",
   "execution_count": 263,
   "id": "f5e96188",
   "metadata": {},
   "outputs": [
    {
     "name": "stdout",
     "output_type": "stream",
     "text": [
      "Number of outliers: 0\n",
      "Maximum outlier value: nan\n",
      "Minimum outlier value: nan\n"
     ]
    }
   ],
   "source": [
    "#These fuctions may find the outliers Now it may present by IQR method....\n",
    "\n",
    "def finding_outliers(df):\n",
    "    q1 = df.quantile(0.25)\n",
    "    q3 = df.quantile(0.75)\n",
    "    iqr = q3-q1\n",
    "    outlier = df[((df<(q1-1.5*iqr))| (df>(q3+1.5*iqr)))]\n",
    "    return outlier\n",
    "\n",
    "outliers = finding_outliers(df1['age'])\n",
    "print('Number of outliers:',len(outliers))\n",
    "print('Maximum outlier value:',outliers.max())\n",
    "print('Minimum outlier value:',outliers.min())"
   ]
  },
  {
   "cell_type": "code",
   "execution_count": 264,
   "id": "867c32d2",
   "metadata": {},
   "outputs": [
    {
     "name": "stdout",
     "output_type": "stream",
     "text": [
      "Number of outliers: 0\n",
      "Maximum outlier value: nan\n",
      "Minimum outlier value: nan\n"
     ]
    }
   ],
   "source": [
    "outliers = finding_outliers(df1['region code'])\n",
    "print('Number of outliers:',len(outliers))\n",
    "print('Maximum outlier value:',outliers.max())\n",
    "print('Minimum outlier value:',outliers.min())"
   ]
  },
  {
   "cell_type": "code",
   "execution_count": 265,
   "id": "c8bb3eff",
   "metadata": {},
   "outputs": [
    {
     "data": {
      "image/png": "[encoded data removed]",
      "text/plain": [
       "<Figure size 432x288 with 1 Axes>"
      ]
     },
     "metadata": {
      "needs_background": "light"
     },
     "output_type": "display_data"
    }
   ],
   "source": [
    "# Finding outliers for customer policy details\n",
    "\n",
    "plot_boxplot(df2,'annual premium(in Rs)')"
   ]
  },
  {
   "cell_type": "code",
   "execution_count": 266,
   "id": "a170fddd",
   "metadata": {},
   "outputs": [
    {
     "data": {
      "image/png": "[encoded data removed]",
      "text/plain": [
       "<Figure size 432x288 with 1 Axes>"
      ]
     },
     "metadata": {
      "needs_background": "light"
     },
     "output_type": "display_data"
    }
   ],
   "source": [
    "plot_boxplot(df2,'sales channel code')"
   ]
  },
  {
   "cell_type": "code",
   "execution_count": 267,
   "id": "25eb203c",
   "metadata": {},
   "outputs": [
    {
     "data": {
      "image/png": "[encoded data removed]",
      "text/plain": [
       "<Figure size 432x288 with 1 Axes>"
      ]
     },
     "metadata": {
      "needs_background": "light"
     },
     "output_type": "display_data"
    }
   ],
   "source": [
    "plot_boxplot(df2,'vintage')"
   ]
  },
  {
   "cell_type": "code",
   "execution_count": 268,
   "id": "1578ab62",
   "metadata": {},
   "outputs": [
    {
     "name": "stdout",
     "output_type": "stream",
     "text": [
      "Number of outliers: 0\n",
      "Maximum outlier value: nan\n",
      "Minimum outlier value: nan\n"
     ]
    }
   ],
   "source": [
    "outliers = finding_outliers(df2['annual premium(in Rs)'])\n",
    "print('Number of outliers:',len(outliers))\n",
    "print('Maximum outlier value:',outliers.max())\n",
    "print('Minimum outlier value:',outliers.min())"
   ]
  },
  {
   "cell_type": "code",
   "execution_count": 269,
   "id": "2103378b",
   "metadata": {},
   "outputs": [
    {
     "name": "stdout",
     "output_type": "stream",
     "text": [
      "Number of outliers: 0\n",
      "Maximum outlier value: nan\n",
      "Minimum outlier value: nan\n"
     ]
    }
   ],
   "source": [
    "outliers = finding_outliers(df2['sales channel code'])\n",
    "print('Number of outliers:',len(outliers))\n",
    "print('Maximum outlier value:',outliers.max())\n",
    "print('Minimum outlier value:',outliers.min())"
   ]
  },
  {
   "cell_type": "code",
   "execution_count": 270,
   "id": "a96ef5ad",
   "metadata": {},
   "outputs": [
    {
     "name": "stdout",
     "output_type": "stream",
     "text": [
      "Number of outliers: 0\n",
      "Maximum outlier value: nan\n",
      "Minimum outlier value: nan\n"
     ]
    }
   ],
   "source": [
    "outliers = finding_outliers(df2['vintage'])\n",
    "print('Number of outliers:',len(outliers))\n",
    "print('Maximum outlier value:',outliers.max())\n",
    "print('Minimum outlier value:',outliers.min())"
   ]
  },
  {
   "cell_type": "code",
   "execution_count": 271,
   "id": "f26e8b02",
   "metadata": {},
   "outputs": [],
   "source": [
    "# 2.ii.(b). Replacing  the outliers with mean values\n",
    "\n",
    "def replace_outlier(df):\n",
    "    q1 = df.quantile(0.25)\n",
    "    q3 = df.quantile(0.75)\n",
    "    iqr = q3-q1\n",
    "    upper = df[~(df>(q3+1.5*iqr))].max()\n",
    "    lower = df[~(df<(q1-1.5*iqr))].min()\n",
    "    df = np.where(df>upper,df.mean(),np.where(df<lower,df.mean(),df))\n",
    "    return df\n",
    "\n",
    "df2['annual premium(in Rs)']= replace_outlier(df2['annual premium(in Rs)'])"
   ]
  },
  {
   "cell_type": "code",
   "execution_count": 272,
   "id": "f1ac32cd",
   "metadata": {},
   "outputs": [
    {
     "data": {
      "text/html": [
       "<div>\n",
       "<style scoped>\n",
       "    .dataframe tbody tr th:only-of-type {\n",
       "        vertical-align: middle;\n",
       "    }\n",
       "\n",
       "    .dataframe tbody tr th {\n",
       "        vertical-align: top;\n",
       "    }\n",
       "\n",
       "    .dataframe thead th {\n",
       "        text-align: right;\n",
       "    }\n",
       "</style>\n",
       "<table border=\"1\" class=\"dataframe\">\n",
       "  <thead>\n",
       "    <tr style=\"text-align: right;\">\n",
       "      <th></th>\n",
       "      <th>Customer_id</th>\n",
       "      <th>Gender</th>\n",
       "      <th>age</th>\n",
       "      <th>driving licence present</th>\n",
       "      <th>region code</th>\n",
       "      <th>previously insured</th>\n",
       "      <th>vechicle age</th>\n",
       "      <th>vechicle damage</th>\n",
       "    </tr>\n",
       "  </thead>\n",
       "  <tbody>\n",
       "    <tr>\n",
       "      <th>0</th>\n",
       "      <td>1.0</td>\n",
       "      <td>Male</td>\n",
       "      <td>45.0</td>\n",
       "      <td>1.0</td>\n",
       "      <td>25.0</td>\n",
       "      <td>0.0</td>\n",
       "      <td>&gt; 2 Years</td>\n",
       "      <td>Yes</td>\n",
       "    </tr>\n",
       "    <tr>\n",
       "      <th>1</th>\n",
       "      <td>2.0</td>\n",
       "      <td>Male</td>\n",
       "      <td>60.0</td>\n",
       "      <td>1.0</td>\n",
       "      <td>30.0</td>\n",
       "      <td>1.0</td>\n",
       "      <td>1-2 Years</td>\n",
       "      <td>No</td>\n",
       "    </tr>\n",
       "    <tr>\n",
       "      <th>2</th>\n",
       "      <td>3.0</td>\n",
       "      <td>Male</td>\n",
       "      <td>55.0</td>\n",
       "      <td>1.0</td>\n",
       "      <td>20.0</td>\n",
       "      <td>1.0</td>\n",
       "      <td>&gt; 2 Years</td>\n",
       "      <td>No</td>\n",
       "    </tr>\n",
       "    <tr>\n",
       "      <th>3</th>\n",
       "      <td>4.0</td>\n",
       "      <td>Female</td>\n",
       "      <td>25.0</td>\n",
       "      <td>1.0</td>\n",
       "      <td>15.0</td>\n",
       "      <td>0.0</td>\n",
       "      <td>&lt; 1 Year</td>\n",
       "      <td>No</td>\n",
       "    </tr>\n",
       "    <tr>\n",
       "      <th>4</th>\n",
       "      <td>5.0</td>\n",
       "      <td>Male</td>\n",
       "      <td>4.0</td>\n",
       "      <td>1.0</td>\n",
       "      <td>7.0</td>\n",
       "      <td>0.0</td>\n",
       "      <td>&lt; 1 Year</td>\n",
       "      <td>Yes</td>\n",
       "    </tr>\n",
       "  </tbody>\n",
       "</table>\n",
       "</div>"
      ],
      "text/plain": [
       "   Customer_id  Gender   age  driving licence present  region code  \\\n",
       "0          1.0    Male  45.0                      1.0         25.0   \n",
       "1          2.0    Male  60.0                      1.0         30.0   \n",
       "2          3.0    Male  55.0                      1.0         20.0   \n",
       "3          4.0  Female  25.0                      1.0         15.0   \n",
       "4          5.0    Male   4.0                      1.0          7.0   \n",
       "\n",
       "   previously insured vechicle age vechicle damage  \n",
       "0                 0.0    > 2 Years             Yes  \n",
       "1                 1.0    1-2 Years              No  \n",
       "2                 1.0    > 2 Years              No  \n",
       "3                 0.0     < 1 Year              No  \n",
       "4                 0.0     < 1 Year             Yes  "
      ]
     },
     "execution_count": 272,
     "metadata": {},
     "output_type": "execute_result"
    }
   ],
   "source": [
    "# 2.(iii).Remove white spaces\n",
    "\n",
    "df1.apply(lambda x: x.str.strip() if x.dtype == 'object' else x)"
   ]
  },
  {
   "cell_type": "code",
   "execution_count": 273,
   "id": "4ed91093",
   "metadata": {},
   "outputs": [],
   "source": [
    "# Here the customer policy details table contains all the columns of float type .so no need to remove spaces"
   ]
  },
  {
   "cell_type": "code",
   "execution_count": 274,
   "id": "5d0e5a84",
   "metadata": {},
   "outputs": [
    {
     "data": {
      "text/html": [
       "<div>\n",
       "<style scoped>\n",
       "    .dataframe tbody tr th:only-of-type {\n",
       "        vertical-align: middle;\n",
       "    }\n",
       "\n",
       "    .dataframe tbody tr th {\n",
       "        vertical-align: top;\n",
       "    }\n",
       "\n",
       "    .dataframe thead th {\n",
       "        text-align: right;\n",
       "    }\n",
       "</style>\n",
       "<table border=\"1\" class=\"dataframe\">\n",
       "  <thead>\n",
       "    <tr style=\"text-align: right;\">\n",
       "      <th></th>\n",
       "      <th>Customer_id</th>\n",
       "      <th>Gender</th>\n",
       "      <th>age</th>\n",
       "      <th>driving licence present</th>\n",
       "      <th>region code</th>\n",
       "      <th>previously insured</th>\n",
       "      <th>vechicle age</th>\n",
       "      <th>vechicle damage</th>\n",
       "    </tr>\n",
       "  </thead>\n",
       "  <tbody>\n",
       "    <tr>\n",
       "      <th>0</th>\n",
       "      <td>1.0</td>\n",
       "      <td>male</td>\n",
       "      <td>45.0</td>\n",
       "      <td>1.0</td>\n",
       "      <td>25.0</td>\n",
       "      <td>0.0</td>\n",
       "      <td>&gt; 2 years</td>\n",
       "      <td>yes</td>\n",
       "    </tr>\n",
       "    <tr>\n",
       "      <th>1</th>\n",
       "      <td>2.0</td>\n",
       "      <td>male</td>\n",
       "      <td>60.0</td>\n",
       "      <td>1.0</td>\n",
       "      <td>30.0</td>\n",
       "      <td>1.0</td>\n",
       "      <td>1-2 years</td>\n",
       "      <td>no</td>\n",
       "    </tr>\n",
       "    <tr>\n",
       "      <th>2</th>\n",
       "      <td>3.0</td>\n",
       "      <td>male</td>\n",
       "      <td>55.0</td>\n",
       "      <td>1.0</td>\n",
       "      <td>20.0</td>\n",
       "      <td>1.0</td>\n",
       "      <td>&gt; 2 years</td>\n",
       "      <td>no</td>\n",
       "    </tr>\n",
       "    <tr>\n",
       "      <th>3</th>\n",
       "      <td>4.0</td>\n",
       "      <td>female</td>\n",
       "      <td>25.0</td>\n",
       "      <td>1.0</td>\n",
       "      <td>15.0</td>\n",
       "      <td>0.0</td>\n",
       "      <td>&lt; 1 year</td>\n",
       "      <td>no</td>\n",
       "    </tr>\n",
       "    <tr>\n",
       "      <th>4</th>\n",
       "      <td>5.0</td>\n",
       "      <td>male</td>\n",
       "      <td>4.0</td>\n",
       "      <td>1.0</td>\n",
       "      <td>7.0</td>\n",
       "      <td>0.0</td>\n",
       "      <td>&lt; 1 year</td>\n",
       "      <td>yes</td>\n",
       "    </tr>\n",
       "  </tbody>\n",
       "</table>\n",
       "</div>"
      ],
      "text/plain": [
       "   Customer_id  Gender   age  driving licence present  region code  \\\n",
       "0          1.0    male  45.0                      1.0         25.0   \n",
       "1          2.0    male  60.0                      1.0         30.0   \n",
       "2          3.0    male  55.0                      1.0         20.0   \n",
       "3          4.0  female  25.0                      1.0         15.0   \n",
       "4          5.0    male   4.0                      1.0          7.0   \n",
       "\n",
       "   previously insured vechicle age vechicle damage  \n",
       "0                 0.0    > 2 years             yes  \n",
       "1                 1.0    1-2 years              no  \n",
       "2                 1.0    > 2 years              no  \n",
       "3                 0.0     < 1 year              no  \n",
       "4                 0.0     < 1 year             yes  "
      ]
     },
     "execution_count": 274,
     "metadata": {},
     "output_type": "execute_result"
    }
   ],
   "source": [
    "# 2.(iv).Case Correction (lower or Upper anyone)\n",
    "\n",
    "df1.apply(lambda x: x.str.lower() if x.dtype == 'object' else x)"
   ]
  },
  {
   "cell_type": "code",
   "execution_count": 275,
   "id": "86baf2cf",
   "metadata": {},
   "outputs": [
    {
     "data": {
      "text/html": [
       "<div>\n",
       "<style scoped>\n",
       "    .dataframe tbody tr th:only-of-type {\n",
       "        vertical-align: middle;\n",
       "    }\n",
       "\n",
       "    .dataframe tbody tr th {\n",
       "        vertical-align: top;\n",
       "    }\n",
       "\n",
       "    .dataframe thead th {\n",
       "        text-align: right;\n",
       "    }\n",
       "</style>\n",
       "<table border=\"1\" class=\"dataframe\">\n",
       "  <thead>\n",
       "    <tr style=\"text-align: right;\">\n",
       "      <th></th>\n",
       "      <th>No</th>\n",
       "      <th>Yes</th>\n",
       "    </tr>\n",
       "  </thead>\n",
       "  <tbody>\n",
       "    <tr>\n",
       "      <th>0</th>\n",
       "      <td>0</td>\n",
       "      <td>1</td>\n",
       "    </tr>\n",
       "    <tr>\n",
       "      <th>1</th>\n",
       "      <td>1</td>\n",
       "      <td>0</td>\n",
       "    </tr>\n",
       "    <tr>\n",
       "      <th>2</th>\n",
       "      <td>1</td>\n",
       "      <td>0</td>\n",
       "    </tr>\n",
       "    <tr>\n",
       "      <th>3</th>\n",
       "      <td>1</td>\n",
       "      <td>0</td>\n",
       "    </tr>\n",
       "    <tr>\n",
       "      <th>4</th>\n",
       "      <td>0</td>\n",
       "      <td>1</td>\n",
       "    </tr>\n",
       "  </tbody>\n",
       "</table>\n",
       "</div>"
      ],
      "text/plain": [
       "   No  Yes\n",
       "0   0    1\n",
       "1   1    0\n",
       "2   1    0\n",
       "3   1    0\n",
       "4   0    1"
      ]
     },
     "execution_count": 275,
     "metadata": {},
     "output_type": "execute_result"
    }
   ],
   "source": [
    "# 2.(v). Convert nominal data (categorical) into dummy variables\n",
    "\n",
    "# Here Creating dummy variables for Vechicle damage(Because the vechicle damage has two uniques values like \"Yes or No\")\n",
    "\n",
    "dummy_variables_1 = pd.get_dummies(df1[\"vechicle damage\"])\n",
    "dummy_variables_1.head()"
   ]
  },
  {
   "cell_type": "code",
   "execution_count": 276,
   "id": "9086300f",
   "metadata": {},
   "outputs": [
    {
     "data": {
      "text/html": [
       "<div>\n",
       "<style scoped>\n",
       "    .dataframe tbody tr th:only-of-type {\n",
       "        vertical-align: middle;\n",
       "    }\n",
       "\n",
       "    .dataframe tbody tr th {\n",
       "        vertical-align: top;\n",
       "    }\n",
       "\n",
       "    .dataframe thead th {\n",
       "        text-align: right;\n",
       "    }\n",
       "</style>\n",
       "<table border=\"1\" class=\"dataframe\">\n",
       "  <thead>\n",
       "    <tr style=\"text-align: right;\">\n",
       "      <th></th>\n",
       "      <th>vechicle-damage-No</th>\n",
       "      <th>vechicle-damage-No</th>\n",
       "    </tr>\n",
       "  </thead>\n",
       "  <tbody>\n",
       "    <tr>\n",
       "      <th>0</th>\n",
       "      <td>0</td>\n",
       "      <td>1</td>\n",
       "    </tr>\n",
       "    <tr>\n",
       "      <th>1</th>\n",
       "      <td>1</td>\n",
       "      <td>0</td>\n",
       "    </tr>\n",
       "    <tr>\n",
       "      <th>2</th>\n",
       "      <td>1</td>\n",
       "      <td>0</td>\n",
       "    </tr>\n",
       "    <tr>\n",
       "      <th>3</th>\n",
       "      <td>1</td>\n",
       "      <td>0</td>\n",
       "    </tr>\n",
       "    <tr>\n",
       "      <th>4</th>\n",
       "      <td>0</td>\n",
       "      <td>1</td>\n",
       "    </tr>\n",
       "  </tbody>\n",
       "</table>\n",
       "</div>"
      ],
      "text/plain": [
       "   vechicle-damage-No  vechicle-damage-No\n",
       "0                   0                   1\n",
       "1                   1                   0\n",
       "2                   1                   0\n",
       "3                   1                   0\n",
       "4                   0                   1"
      ]
     },
     "execution_count": 276,
     "metadata": {},
     "output_type": "execute_result"
    }
   ],
   "source": [
    "# Here i will reanme the coluumn names for better view of vechicle-damage\n",
    "\n",
    "dummy_variables_1.rename(columns={'No':'vechicle-damage-No','Yes':'vechicle-damage-No'},inplace = True)\n",
    "dummy_variables_1.head()"
   ]
  },
  {
   "cell_type": "code",
   "execution_count": 277,
   "id": "60916bc1",
   "metadata": {},
   "outputs": [],
   "source": [
    "df1 = pd.concat([df1,dummy_variables_1],axis = 1)"
   ]
  },
  {
   "cell_type": "code",
   "execution_count": 278,
   "id": "5ed5c044",
   "metadata": {},
   "outputs": [],
   "source": [
    "# 2.(iv). Drop Duplicates(duplicated rows)\n",
    "\n",
    "# Dropping duplicates from customer details table\n",
    "\n",
    "df1.drop_duplicates(inplace = True)"
   ]
  },
  {
   "cell_type": "code",
   "execution_count": 279,
   "id": "8d546080",
   "metadata": {},
   "outputs": [],
   "source": [
    "# Dropping duplicates from customer policy details table\n",
    "\n",
    "\n",
    "df2.drop_duplicates(inplace = True)"
   ]
  },
  {
   "cell_type": "code",
   "execution_count": 280,
   "id": "efd62d2e",
   "metadata": {},
   "outputs": [
    {
     "data": {
      "text/html": [
       "<div>\n",
       "<style scoped>\n",
       "    .dataframe tbody tr th:only-of-type {\n",
       "        vertical-align: middle;\n",
       "    }\n",
       "\n",
       "    .dataframe tbody tr th {\n",
       "        vertical-align: top;\n",
       "    }\n",
       "\n",
       "    .dataframe thead th {\n",
       "        text-align: right;\n",
       "    }\n",
       "</style>\n",
       "<table border=\"1\" class=\"dataframe\">\n",
       "  <thead>\n",
       "    <tr style=\"text-align: right;\">\n",
       "      <th></th>\n",
       "      <th>Customer_id</th>\n",
       "      <th>Gender</th>\n",
       "      <th>age</th>\n",
       "      <th>driving licence present</th>\n",
       "      <th>region code</th>\n",
       "      <th>previously insured</th>\n",
       "      <th>vechicle age</th>\n",
       "      <th>vechicle damage</th>\n",
       "      <th>vechicle-damage-No</th>\n",
       "      <th>vechicle-damage-No</th>\n",
       "      <th>annual premium(in Rs)</th>\n",
       "      <th>sales channel code</th>\n",
       "      <th>vintage</th>\n",
       "      <th>response</th>\n",
       "    </tr>\n",
       "  </thead>\n",
       "  <tbody>\n",
       "    <tr>\n",
       "      <th>0</th>\n",
       "      <td>1.0</td>\n",
       "      <td>Male</td>\n",
       "      <td>45.0</td>\n",
       "      <td>1.0</td>\n",
       "      <td>25.0</td>\n",
       "      <td>0.0</td>\n",
       "      <td>&gt; 2 Years</td>\n",
       "      <td>Yes</td>\n",
       "      <td>0</td>\n",
       "      <td>1</td>\n",
       "      <td>45564.0</td>\n",
       "      <td>65.0</td>\n",
       "      <td>350.0</td>\n",
       "      <td>1.0</td>\n",
       "    </tr>\n",
       "    <tr>\n",
       "      <th>1</th>\n",
       "      <td>2.0</td>\n",
       "      <td>Male</td>\n",
       "      <td>60.0</td>\n",
       "      <td>1.0</td>\n",
       "      <td>30.0</td>\n",
       "      <td>1.0</td>\n",
       "      <td>1-2 Years</td>\n",
       "      <td>No</td>\n",
       "      <td>1</td>\n",
       "      <td>0</td>\n",
       "      <td>40556.0</td>\n",
       "      <td>55.0</td>\n",
       "      <td>155.0</td>\n",
       "      <td>0.0</td>\n",
       "    </tr>\n",
       "    <tr>\n",
       "      <th>2</th>\n",
       "      <td>3.0</td>\n",
       "      <td>Male</td>\n",
       "      <td>55.0</td>\n",
       "      <td>1.0</td>\n",
       "      <td>20.0</td>\n",
       "      <td>1.0</td>\n",
       "      <td>&gt; 2 Years</td>\n",
       "      <td>No</td>\n",
       "      <td>1</td>\n",
       "      <td>0</td>\n",
       "      <td>35679.0</td>\n",
       "      <td>25.0</td>\n",
       "      <td>249.0</td>\n",
       "      <td>1.0</td>\n",
       "    </tr>\n",
       "    <tr>\n",
       "      <th>3</th>\n",
       "      <td>4.0</td>\n",
       "      <td>Female</td>\n",
       "      <td>25.0</td>\n",
       "      <td>1.0</td>\n",
       "      <td>15.0</td>\n",
       "      <td>0.0</td>\n",
       "      <td>&lt; 1 Year</td>\n",
       "      <td>No</td>\n",
       "      <td>1</td>\n",
       "      <td>0</td>\n",
       "      <td>25619.0</td>\n",
       "      <td>125.0</td>\n",
       "      <td>35.0</td>\n",
       "      <td>0.0</td>\n",
       "    </tr>\n",
       "    <tr>\n",
       "      <th>4</th>\n",
       "      <td>5.0</td>\n",
       "      <td>Male</td>\n",
       "      <td>4.0</td>\n",
       "      <td>1.0</td>\n",
       "      <td>7.0</td>\n",
       "      <td>0.0</td>\n",
       "      <td>&lt; 1 Year</td>\n",
       "      <td>Yes</td>\n",
       "      <td>0</td>\n",
       "      <td>1</td>\n",
       "      <td>21597.0</td>\n",
       "      <td>126.0</td>\n",
       "      <td>69.0</td>\n",
       "      <td>0.0</td>\n",
       "    </tr>\n",
       "  </tbody>\n",
       "</table>\n",
       "</div>"
      ],
      "text/plain": [
       "   Customer_id  Gender   age  driving licence present  region code  \\\n",
       "0          1.0    Male  45.0                      1.0         25.0   \n",
       "1          2.0    Male  60.0                      1.0         30.0   \n",
       "2          3.0    Male  55.0                      1.0         20.0   \n",
       "3          4.0  Female  25.0                      1.0         15.0   \n",
       "4          5.0    Male   4.0                      1.0          7.0   \n",
       "\n",
       "   previously insured vechicle age vechicle damage  vechicle-damage-No  \\\n",
       "0                 0.0    > 2 Years             Yes                   0   \n",
       "1                 1.0    1-2 Years              No                   1   \n",
       "2                 1.0    > 2 Years              No                   1   \n",
       "3                 0.0     < 1 Year              No                   1   \n",
       "4                 0.0     < 1 Year             Yes                   0   \n",
       "\n",
       "   vechicle-damage-No  annual premium(in Rs)  sales channel code  vintage  \\\n",
       "0                   1                45564.0                65.0    350.0   \n",
       "1                   0                40556.0                55.0    155.0   \n",
       "2                   0                35679.0                25.0    249.0   \n",
       "3                   0                25619.0               125.0     35.0   \n",
       "4                   1                21597.0               126.0     69.0   \n",
       "\n",
       "   response  \n",
       "0       1.0  \n",
       "1       0.0  \n",
       "2       1.0  \n",
       "3       0.0  \n",
       "4       0.0  "
      ]
     },
     "execution_count": 280,
     "metadata": {},
     "output_type": "execute_result"
    }
   ],
   "source": [
    "#3.Merging the data sets:\n",
    "\n",
    "master_data = pd.merge(df1,df2,on = 'Customer_id')\n",
    "master_data"
   ]
  },
  {
   "cell_type": "code",
   "execution_count": 281,
   "id": "45103fe8",
   "metadata": {},
   "outputs": [
    {
     "data": {
      "text/plain": [
       "Gender\n",
       "Female    25619.0\n",
       "Male      35849.0\n",
       "Name: annual premium(in Rs), dtype: float64"
      ]
     },
     "execution_count": 281,
     "metadata": {},
     "output_type": "execute_result"
    }
   ],
   "source": [
    "# 4. Company nees some important information from the master table to make decisions for future growth.\n",
    "\n",
    "# 4.(i). Gender wise average annual premium\n",
    "\n",
    "Gender_data = master_data.groupby('Gender')['annual premium(in Rs)'].mean()\n",
    "Gender_data"
   ]
  },
  {
   "cell_type": "code",
   "execution_count": 282,
   "id": "bb9e3562",
   "metadata": {},
   "outputs": [
    {
     "data": {
      "text/plain": [
       "<AxesSubplot:xlabel='Gender'>"
      ]
     },
     "execution_count": 282,
     "metadata": {},
     "output_type": "execute_result"
    },
    {
     "data": {
      "image/png": "[encoded data removed]",
      "text/plain": [
       "<Figure size 432x288 with 1 Axes>"
      ]
     },
     "metadata": {
      "needs_background": "light"
     },
     "output_type": "display_data"
    }
   ],
   "source": [
    "# Plotting a linear and bar graphs for better known\n",
    "\n",
    "Gender_data.plot()"
   ]
  },
  {
   "cell_type": "code",
   "execution_count": 283,
   "id": "d1aec4da",
   "metadata": {},
   "outputs": [
    {
     "data": {
      "text/plain": [
       "<AxesSubplot:title={'center':'Gender vs average annual premium(in Rs)'}, xlabel='Gender'>"
      ]
     },
     "execution_count": 283,
     "metadata": {},
     "output_type": "execute_result"
    },
    {
     "data": {
      "image/png": "[encoded data removed]",
      "text/plain": [
       "<Figure size 432x288 with 1 Axes>"
      ]
     },
     "metadata": {
      "needs_background": "light"
     },
     "output_type": "display_data"
    }
   ],
   "source": [
    "# Bar Graph\n",
    "\n",
    "Gender_data.plot.bar(title ='Gender vs average annual premium(in Rs)')"
   ]
  },
  {
   "cell_type": "code",
   "execution_count": 284,
   "id": "a7d36bcc",
   "metadata": {},
   "outputs": [
    {
     "data": {
      "text/plain": [
       "age\n",
       "4.0     21597.0\n",
       "25.0    25619.0\n",
       "45.0    45564.0\n",
       "55.0    35679.0\n",
       "60.0    40556.0\n",
       "Name: annual premium(in Rs), dtype: float64"
      ]
     },
     "execution_count": 284,
     "metadata": {},
     "output_type": "execute_result"
    }
   ],
   "source": [
    "# 4.(ii). Age wise annual premium\n",
    "\n",
    "age_data = master_data.groupby('age')['annual premium(in Rs)'].mean()\n",
    "age_data"
   ]
  },
  {
   "cell_type": "code",
   "execution_count": 285,
   "id": "c406a601",
   "metadata": {},
   "outputs": [
    {
     "data": {
      "text/plain": [
       "<AxesSubplot:title={'center':'age vs average annual premium'}, xlabel='age', ylabel='annual premium(in Rs)'>"
      ]
     },
     "execution_count": 285,
     "metadata": {},
     "output_type": "execute_result"
    },
    {
     "data": {
      "image/png": "[encoded data removed]",
      "text/plain": [
       "<Figure size 432x288 with 1 Axes>"
      ]
     },
     "metadata": {
      "needs_background": "light"
     },
     "output_type": "display_data"
    }
   ],
   "source": [
    "# Here it may shows the linear graph\n",
    "\n",
    "age_data.plot(xlabel='age',ylabel ='annual premium(in Rs)',title ='age vs average annual premium')"
   ]
  },
  {
   "cell_type": "code",
   "execution_count": 286,
   "id": "0d4ac17c",
   "metadata": {},
   "outputs": [
    {
     "data": {
      "text/plain": [
       "<AxesSubplot:xlabel='age'>"
      ]
     },
     "execution_count": 286,
     "metadata": {},
     "output_type": "execute_result"
    },
    {
     "data": {
      "image/png": "[encoded data removed]",
      "text/plain": [
       "<Figure size 432x288 with 1 Axes>"
      ]
     },
     "metadata": {
      "needs_background": "light"
     },
     "output_type": "display_data"
    }
   ],
   "source": [
    "age_data.plot.bar()"
   ]
  },
  {
   "cell_type": "code",
   "execution_count": 287,
   "id": "f5b92a0f",
   "metadata": {},
   "outputs": [
    {
     "data": {
      "text/html": [
       "<div>\n",
       "<style scoped>\n",
       "    .dataframe tbody tr th:only-of-type {\n",
       "        vertical-align: middle;\n",
       "    }\n",
       "\n",
       "    .dataframe tbody tr th {\n",
       "        vertical-align: top;\n",
       "    }\n",
       "\n",
       "    .dataframe thead th {\n",
       "        text-align: right;\n",
       "    }\n",
       "</style>\n",
       "<table border=\"1\" class=\"dataframe\">\n",
       "  <thead>\n",
       "    <tr style=\"text-align: right;\">\n",
       "      <th></th>\n",
       "      <th>Customer_id</th>\n",
       "      <th>age</th>\n",
       "      <th>driving licence present</th>\n",
       "      <th>region code</th>\n",
       "      <th>previously insured</th>\n",
       "      <th>vechicle age</th>\n",
       "      <th>vechicle damage</th>\n",
       "      <th>vechicle-damage-No</th>\n",
       "      <th>vechicle-damage-No</th>\n",
       "      <th>annual premium(in Rs)</th>\n",
       "      <th>sales channel code</th>\n",
       "      <th>vintage</th>\n",
       "      <th>response</th>\n",
       "    </tr>\n",
       "    <tr>\n",
       "      <th>Gender</th>\n",
       "      <th></th>\n",
       "      <th></th>\n",
       "      <th></th>\n",
       "      <th></th>\n",
       "      <th></th>\n",
       "      <th></th>\n",
       "      <th></th>\n",
       "      <th></th>\n",
       "      <th></th>\n",
       "      <th></th>\n",
       "      <th></th>\n",
       "      <th></th>\n",
       "      <th></th>\n",
       "    </tr>\n",
       "  </thead>\n",
       "  <tbody>\n",
       "    <tr>\n",
       "      <th>Female</th>\n",
       "      <td>1</td>\n",
       "      <td>1</td>\n",
       "      <td>1</td>\n",
       "      <td>1</td>\n",
       "      <td>1</td>\n",
       "      <td>1</td>\n",
       "      <td>1</td>\n",
       "      <td>1</td>\n",
       "      <td>1</td>\n",
       "      <td>1</td>\n",
       "      <td>1</td>\n",
       "      <td>1</td>\n",
       "      <td>1</td>\n",
       "    </tr>\n",
       "    <tr>\n",
       "      <th>Male</th>\n",
       "      <td>4</td>\n",
       "      <td>4</td>\n",
       "      <td>4</td>\n",
       "      <td>4</td>\n",
       "      <td>4</td>\n",
       "      <td>4</td>\n",
       "      <td>4</td>\n",
       "      <td>4</td>\n",
       "      <td>4</td>\n",
       "      <td>4</td>\n",
       "      <td>4</td>\n",
       "      <td>4</td>\n",
       "      <td>4</td>\n",
       "    </tr>\n",
       "  </tbody>\n",
       "</table>\n",
       "</div>"
      ],
      "text/plain": [
       "        Customer_id  age  driving licence present  region code  \\\n",
       "Gender                                                           \n",
       "Female            1    1                        1            1   \n",
       "Male              4    4                        4            4   \n",
       "\n",
       "        previously insured  vechicle age  vechicle damage  vechicle-damage-No  \\\n",
       "Gender                                                                          \n",
       "Female                   1             1                1                   1   \n",
       "Male                     4             4                4                   4   \n",
       "\n",
       "        vechicle-damage-No  annual premium(in Rs)  sales channel code  \\\n",
       "Gender                                                                  \n",
       "Female                   1                      1                   1   \n",
       "Male                     4                      4                   4   \n",
       "\n",
       "        vintage  response  \n",
       "Gender                     \n",
       "Female        1         1  \n",
       "Male          4         4  "
      ]
     },
     "execution_count": 287,
     "metadata": {},
     "output_type": "execute_result"
    }
   ],
   "source": [
    "# 4.(iii). Checking the data balanced B/W the Genders or not.\n",
    "\n",
    "master_data.groupby('Gender').count()\n"
   ]
  },
  {
   "cell_type": "code",
   "execution_count": 288,
   "id": "389d3963",
   "metadata": {},
   "outputs": [],
   "source": [
    "# Summary:\n",
    "# Here the ration between male and female is most approximately 1.\n",
    "# Her the data between Gender is approximately same... so the data is balanced"
   ]
  },
  {
   "cell_type": "code",
   "execution_count": 289,
   "id": "71d07599",
   "metadata": {},
   "outputs": [
    {
     "data": {
      "text/plain": [
       "vechicle age\n",
       "1-2 Years    40556.0\n",
       "< 1 Year     23608.0\n",
       "> 2 Years    40621.5\n",
       "Name: annual premium(in Rs), dtype: float64"
      ]
     },
     "execution_count": 289,
     "metadata": {},
     "output_type": "execute_result"
    }
   ],
   "source": [
    "# 4.(iv). Vechicle age wise average annual premium\n",
    "\n",
    "vechicle_age_data = master_data.groupby('vechicle age')['annual premium(in Rs)'].mean()\n",
    "vechicle_age_data"
   ]
  },
  {
   "cell_type": "code",
   "execution_count": 290,
   "id": "927855e5",
   "metadata": {},
   "outputs": [
    {
     "data": {
      "text/plain": [
       "<AxesSubplot:xlabel='vechicle age'>"
      ]
     },
     "execution_count": 290,
     "metadata": {},
     "output_type": "execute_result"
    },
    {
     "data": {
      "image/png": "[encoded data removed]",
      "text/plain": [
       "<Figure size 432x288 with 1 Axes>"
      ]
     },
     "metadata": {
      "needs_background": "light"
     },
     "output_type": "display_data"
    }
   ],
   "source": [
    "# Here representing the liner and bar graoh for vechicle age\n",
    "# linear graph\n",
    "\n",
    "vechicle_age_data.plot()"
   ]
  },
  {
   "cell_type": "code",
   "execution_count": 291,
   "id": "1db11c52",
   "metadata": {},
   "outputs": [
    {
     "data": {
      "text/plain": [
       "<AxesSubplot:xlabel='vechicle age'>"
      ]
     },
     "execution_count": 291,
     "metadata": {},
     "output_type": "execute_result"
    },
    {
     "data": {
      "image/png": "[encoded data removed]",
      "text/plain": [
       "<Figure size 432x288 with 1 Axes>"
      ]
     },
     "metadata": {
      "needs_background": "light"
     },
     "output_type": "display_data"
    }
   ],
   "source": [
    "# Bar Graph\n",
    "\n",
    "vechicle_age_data.plot.bar()"
   ]
  },
  {
   "cell_type": "code",
   "execution_count": 292,
   "id": "91d7461c",
   "metadata": {},
   "outputs": [
    {
     "data": {
      "text/plain": [
       "0.8426522363532135"
      ]
     },
     "execution_count": 292,
     "metadata": {},
     "output_type": "execute_result"
    }
   ],
   "source": [
    "# 5.The Correlation between Person age and annual premium\n",
    "\n",
    "master_data['age'].corr(master_data['annual premium(in Rs)'])"
   ]
  },
  {
   "cell_type": "code",
   "execution_count": 293,
   "id": "946f9605",
   "metadata": {},
   "outputs": [
    {
     "data": {
      "text/html": [
       "<div>\n",
       "<style scoped>\n",
       "    .dataframe tbody tr th:only-of-type {\n",
       "        vertical-align: middle;\n",
       "    }\n",
       "\n",
       "    .dataframe tbody tr th {\n",
       "        vertical-align: top;\n",
       "    }\n",
       "\n",
       "    .dataframe thead th {\n",
       "        text-align: right;\n",
       "    }\n",
       "</style>\n",
       "<table border=\"1\" class=\"dataframe\">\n",
       "  <thead>\n",
       "    <tr style=\"text-align: right;\">\n",
       "      <th></th>\n",
       "      <th>age</th>\n",
       "      <th>annual premium(in Rs)</th>\n",
       "    </tr>\n",
       "  </thead>\n",
       "  <tbody>\n",
       "    <tr>\n",
       "      <th>age</th>\n",
       "      <td>1.000000</td>\n",
       "      <td>0.842652</td>\n",
       "    </tr>\n",
       "    <tr>\n",
       "      <th>annual premium(in Rs)</th>\n",
       "      <td>0.842652</td>\n",
       "      <td>1.000000</td>\n",
       "    </tr>\n",
       "  </tbody>\n",
       "</table>\n",
       "</div>"
      ],
      "text/plain": [
       "                            age  annual premium(in Rs)\n",
       "age                    1.000000               0.842652\n",
       "annual premium(in Rs)  0.842652               1.000000"
      ]
     },
     "execution_count": 293,
     "metadata": {},
     "output_type": "execute_result"
    }
   ],
   "source": [
    "# Matrix form of correlation\n",
    "\n",
    "master_data[['age','annual premium(in Rs)']].corr()"
   ]
  },
  {
   "cell_type": "code",
   "execution_count": 231,
   "id": "f8717dcc",
   "metadata": {},
   "outputs": [],
   "source": [
    "# Summary:\n",
    "# Here the person coefficient lies between 0.5 ans -5,so the relation betweeen age and annual premium"
   ]
  },
  {
   "cell_type": "code",
   "execution_count": null,
   "id": "4e6e7df5",
   "metadata": {},
   "outputs": [],
   "source": []
  }
 ],
 "metadata": {
  "kernelspec": {
   "display_name": "Python 3 (ipykernel)",
   "language": "python",
   "name": "python3"
  },
  "language_info": {
   "codemirror_mode": {
    "name": "ipython",
    "version": 3
   },
   "file_extension": ".py",
   "mimetype": "text/x-python",
   "name": "python",
   "nbconvert_exporter": "python",
   "pygments_lexer": "ipython3",
   "version": "3.9.12"
  }
 },
 "nbformat": 4,
 "nbformat_minor": 5
}
